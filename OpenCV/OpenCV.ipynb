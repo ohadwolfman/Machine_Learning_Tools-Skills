{
 "cells": [
  {
   "cell_type": "markdown",
   "id": "be1d7286",
   "metadata": {},
   "source": [
    "## Basics\n",
    " - https://www.youtube.com/watch?v=zSa-fOGh8es&list=PLlD0XVjVhLaLVZWgJuOBrv4JBsWK99DGV&index=1"
   ]
  },
  {
   "cell_type": "code",
   "execution_count": 23,
   "id": "340cc2aa",
   "metadata": {},
   "outputs": [],
   "source": [
    "import cv2"
   ]
  },
  {
   "cell_type": "code",
   "execution_count": 30,
   "id": "93813f89",
   "metadata": {},
   "outputs": [],
   "source": [
    "cat = cv2.imread(\"cat.jpg\", cv2.IMREAD_COLOR)\n",
    "cv2.imshow(\"cat\", cat)\n",
    "cv2.waitKey(0)\n",
    "cv2.destroyAllWindows()"
   ]
  },
  {
   "cell_type": "code",
   "execution_count": 31,
   "id": "dcbbbf72",
   "metadata": {},
   "outputs": [],
   "source": [
    "grey_cat = cv2.imread(\"cat.jpg\", cv2.IMREAD_GRAYSCALE)\n",
    "cv2.imshow(\"cat\", grey_cat)\n",
    "cv2.waitKey(0)\n",
    "cv2.destroyAllWindows()"
   ]
  },
  {
   "cell_type": "code",
   "execution_count": 32,
   "id": "67787499",
   "metadata": {},
   "outputs": [
    {
     "data": {
      "text/plain": [
       "(726, 1062, 3)"
      ]
     },
     "execution_count": 32,
     "metadata": {},
     "output_type": "execute_result"
    }
   ],
   "source": [
    "cat.shape"
   ]
  },
  {
   "cell_type": "code",
   "execution_count": 33,
   "id": "9a0b1320",
   "metadata": {},
   "outputs": [
    {
     "data": {
      "text/plain": [
       "(726, 1062)"
      ]
     },
     "execution_count": 33,
     "metadata": {},
     "output_type": "execute_result"
    }
   ],
   "source": [
    "grey_cat.shape"
   ]
  },
  {
   "cell_type": "code",
   "execution_count": 36,
   "id": "9cc86d03",
   "metadata": {},
   "outputs": [],
   "source": [
    "cat_2 = grey_cat*2\n",
    "cv2.imshow(\"cat\", cat_2)\n",
    "cv2.waitKey(0)\n",
    "cv2.destroyAllWindows()"
   ]
  },
  {
   "cell_type": "code",
   "execution_count": 37,
   "id": "26facc54",
   "metadata": {},
   "outputs": [
    {
     "data": {
      "text/plain": [
       "True"
      ]
     },
     "execution_count": 37,
     "metadata": {},
     "output_type": "execute_result"
    }
   ],
   "source": [
    "cv2.imwrite(\"gray_cat.png\", grey_cat)"
   ]
  },
  {
   "cell_type": "markdown",
   "id": "386badf1",
   "metadata": {},
   "source": [
    "## Image menipulations\n",
    "- https://www.youtube.com/watch?v=tc8UhVhdq50&list=PLlD0XVjVhLaLVZWgJuOBrv4JBsWK99DGV&index=3"
   ]
  },
  {
   "cell_type": "code",
   "execution_count": 40,
   "id": "3cde2d23",
   "metadata": {},
   "outputs": [],
   "source": [
    "import cv2\n",
    "import numpy as np"
   ]
  },
  {
   "cell_type": "code",
   "execution_count": 56,
   "id": "363fd67b",
   "metadata": {},
   "outputs": [],
   "source": [
    "def presentImage(name):\n",
    "    cv2.imshow(\"image\", name)\n",
    "    cv2.waitKey(0)\n",
    "    cv2.destroyAllWindows()"
   ]
  },
  {
   "cell_type": "code",
   "execution_count": 67,
   "id": "0bf705fc",
   "metadata": {},
   "outputs": [],
   "source": [
    "img = cv2.imread(\"cat.jpg\", cv2.IMREAD_COLOR)\n",
    "presentImage(img)"
   ]
  },
  {
   "cell_type": "code",
   "execution_count": 68,
   "id": "b02512ed",
   "metadata": {},
   "outputs": [],
   "source": [
    "#Resize\n",
    "img1 = cv2.resize(img, (300,600))\n",
    "presentImage(img1)"
   ]
  },
  {
   "cell_type": "code",
   "execution_count": 84,
   "id": "2e721505",
   "metadata": {},
   "outputs": [
    {
     "data": {
      "text/plain": [
       "(726, 1062, 3)"
      ]
     },
     "execution_count": 84,
     "metadata": {},
     "output_type": "execute_result"
    }
   ],
   "source": [
    "img.shape"
   ]
  },
  {
   "cell_type": "code",
   "execution_count": 89,
   "id": "cfe2c752",
   "metadata": {},
   "outputs": [],
   "source": [
    "#another way\n",
    "img2 = cv2.resize(img, (0,0), fx=1, fy=0.683)\n",
    "presentImage(img2)\n",
    "#fx and fy duplicate the x & y axis of the size original photo sizes"
   ]
  },
  {
   "cell_type": "code",
   "execution_count": 101,
   "id": "2f8f5507",
   "metadata": {},
   "outputs": [],
   "source": [
    "#crop\n",
    "height, width = img.shape[0], img.shape[1]\n",
    "img3 = img[int(height/2): , 200:-100]\n",
    "presentImage(img3)"
   ]
  },
  {
   "cell_type": "code",
   "execution_count": 102,
   "id": "cc34e75e",
   "metadata": {},
   "outputs": [],
   "source": [
    "#Rotate\n",
    "img4 = cv2.rotate(img, cv2.ROTATE_180)\n",
    "presentImage(img4)"
   ]
  },
  {
   "cell_type": "code",
   "execution_count": 106,
   "id": "d7eb81fd",
   "metadata": {},
   "outputs": [],
   "source": [
    "m = cv2.getRotationMatrix2D(center=(width/2, height/2), angle=50, scale=1)\n",
    "img5=cv2.warpAffine(img, m, (width, height)) #(width before height!)\n",
    "presentImage(img5)"
   ]
  },
  {
   "cell_type": "code",
   "execution_count": 114,
   "id": "0fc7e8f8",
   "metadata": {},
   "outputs": [],
   "source": [
    "#Transfer\n",
    "tx = width/5\n",
    "ty = height/3\n",
    "\n",
    "M=np.array([[1,0,tx],[0,1,ty]])\n",
    "img6= cv2.warpAffine(img, M, (width, height))\n",
    "presentImage(img6)"
   ]
  },
  {
   "cell_type": "markdown",
   "id": "ae5b843c",
   "metadata": {},
   "source": [
    "## Drawing shapes\n",
    "- https://www.youtube.com/watch?v=BNLhd-6YsyE&list=PLlD0XVjVhLaLVZWgJuOBrv4JBsWK99DGV&index=3"
   ]
  },
  {
   "cell_type": "code",
   "execution_count": null,
   "id": "7d32842b",
   "metadata": {},
   "outputs": [],
   "source": []
  },
  {
   "cell_type": "code",
   "execution_count": null,
   "id": "4f2f5de5",
   "metadata": {},
   "outputs": [],
   "source": []
  },
  {
   "cell_type": "code",
   "execution_count": null,
   "id": "225f8990",
   "metadata": {},
   "outputs": [],
   "source": []
  },
  {
   "cell_type": "code",
   "execution_count": null,
   "id": "27a32392",
   "metadata": {},
   "outputs": [],
   "source": []
  },
  {
   "cell_type": "code",
   "execution_count": null,
   "id": "aad40fc6",
   "metadata": {},
   "outputs": [],
   "source": []
  },
  {
   "cell_type": "code",
   "execution_count": null,
   "id": "094379ce",
   "metadata": {},
   "outputs": [],
   "source": []
  },
  {
   "cell_type": "markdown",
   "id": "f44c725f",
   "metadata": {},
   "source": [
    "## Detect Corners with OpenCV for Python\n",
    "- https://www.youtube.com/watch?v=wkWc1-AG2NU"
   ]
  },
  {
   "cell_type": "code",
   "execution_count": 9,
   "id": "87f27bdf",
   "metadata": {},
   "outputs": [],
   "source": [
    "import cv2\n",
    "import numpy as np"
   ]
  },
  {
   "cell_type": "code",
   "execution_count": 17,
   "id": "051bdfc4",
   "metadata": {},
   "outputs": [],
   "source": [
    "img = cv2.imread(\"shapes.png\")\n",
    "cv2.imshow(\"image\", img) #doesnt matter how will i call the image\n",
    "cv2.waitKey(0)\n",
    "cv2.destroyAllWindows()"
   ]
  },
  {
   "cell_type": "code",
   "execution_count": 18,
   "id": "d234d814",
   "metadata": {},
   "outputs": [
    {
     "data": {
      "text/plain": [
       "array([[255, 255, 255, ..., 255, 255, 255],\n",
       "       [255, 255, 255, ..., 255, 255, 255],\n",
       "       [255, 255, 255, ..., 255, 255, 255],\n",
       "       ...,\n",
       "       [255, 255, 255, ..., 255, 255, 255],\n",
       "       [255, 255, 255, ..., 255, 255, 255],\n",
       "       [255, 255, 255, ..., 255, 255, 255]], dtype=uint8)"
      ]
     },
     "execution_count": 18,
     "metadata": {},
     "output_type": "execute_result"
    }
   ],
   "source": [
    "#the colors dont important to detect corners\n",
    "gray_img = cv2.cvtColor(img, cv2.COLOR_BGR2GRAY)\n",
    "gray_img"
   ]
  },
  {
   "cell_type": "code",
   "execution_count": 19,
   "id": "8477bfaa",
   "metadata": {},
   "outputs": [],
   "source": [
    "cv2.imshow(\"image\", gray_img) #doesnt matter how will i call the image\n",
    "cv2.waitKey(0)\n",
    "cv2.destroyAllWindows()"
   ]
  },
  {
   "cell_type": "code",
   "execution_count": 20,
   "id": "1d33ef23",
   "metadata": {},
   "outputs": [],
   "source": [
    "corners = cv2.goodFeaturesToTrack(gray_img, maxCorners=50, qualityLevel=0.15, minDistance=50)\n",
    "corners = np.int0(corners)\n",
    "for c in corners:\n",
    "    x,y = c.ravel()\n",
    "    img = cv2.circle(img, center=(x,y), radius=20, color=(0,0,255), thickness=-1)\n",
    "    cv2.imshow(\"image\", img) #doesnt matter how will i call the image\n",
    "cv2.waitKey(0)\n",
    "cv2.destroyAllWindows()"
   ]
  },
  {
   "cell_type": "code",
   "execution_count": 21,
   "id": "c0f827c5",
   "metadata": {},
   "outputs": [],
   "source": [
    "#Harris corner detevetion\n",
    "corners = cv2.goodFeaturesToTrack(gray_img, maxCorners=50, qualityLevel=0.01, minDistance=30, useHarrisDetector=True, k=0.1)\n",
    "corners = np.int0(corners)\n",
    "for c in corners:\n",
    "    x,y = c.ravel()\n",
    "    img = cv2.circle(img, center=(x,y), radius=10, color=(0,255,0), thickness=-1)\n",
    "    cv2.imshow(\"image\", img) #doesnt matter how will i call the image\n",
    "cv2.waitKey(0)\n",
    "cv2.destroyAllWindows()"
   ]
  },
  {
   "cell_type": "code",
   "execution_count": 22,
   "id": "edd1a7c9",
   "metadata": {},
   "outputs": [
    {
     "data": {
      "text/plain": [
       "True"
      ]
     },
     "execution_count": 22,
     "metadata": {},
     "output_type": "execute_result"
    }
   ],
   "source": [
    "cv2.imwrite(\"5_shapes_corners.png\", img)"
   ]
  },
  {
   "cell_type": "code",
   "execution_count": 39,
   "id": "7025d977",
   "metadata": {},
   "outputs": [
    {
     "data": {
      "text/plain": [
       "(1, 2)"
      ]
     },
     "execution_count": 39,
     "metadata": {},
     "output_type": "execute_result"
    }
   ],
   "source": [
    "x = np.random.rand(3, 2)\n",
    "\n",
    "y = np.sum(x, axis=0, keepdims=True)\n",
    "y.shape"
   ]
  },
  {
   "cell_type": "markdown",
   "id": "d0dee61a",
   "metadata": {},
   "source": [
    "## Face detecting\n",
    "- https://www.youtube.com/watch?v=anMzDYSwndE&list=PLlD0XVjVhLaLVZWgJuOBrv4JBsWK99DGV&index=7"
   ]
  },
  {
   "cell_type": "code",
   "execution_count": null,
   "id": "fdae7d58",
   "metadata": {},
   "outputs": [],
   "source": []
  },
  {
   "cell_type": "code",
   "execution_count": null,
   "id": "dda6a7af",
   "metadata": {},
   "outputs": [],
   "source": []
  },
  {
   "cell_type": "code",
   "execution_count": null,
   "id": "feccccdc",
   "metadata": {},
   "outputs": [],
   "source": []
  },
  {
   "cell_type": "code",
   "execution_count": null,
   "id": "6472a406",
   "metadata": {},
   "outputs": [],
   "source": []
  }
 ],
 "metadata": {
  "kernelspec": {
   "display_name": "Python 3",
   "language": "python",
   "name": "python3"
  },
  "language_info": {
   "codemirror_mode": {
    "name": "ipython",
    "version": 3
   },
   "file_extension": ".py",
   "mimetype": "text/x-python",
   "name": "python",
   "nbconvert_exporter": "python",
   "pygments_lexer": "ipython3",
   "version": "3.8.8"
  }
 },
 "nbformat": 4,
 "nbformat_minor": 5
}
