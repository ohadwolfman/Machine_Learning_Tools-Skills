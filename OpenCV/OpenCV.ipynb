{
 "cells": [
  {
   "cell_type": "markdown",
   "id": "65c44b0a",
   "metadata": {},
   "source": [
    "## Basics\n",
    " - https://www.youtube.com/watch?v=zSa-fOGh8es&list=PLlD0XVjVhLaLVZWgJuOBrv4JBsWK99DGV&index=1"
   ]
  },
  {
   "cell_type": "code",
   "execution_count": 1,
   "id": "4d81043c",
   "metadata": {},
   "outputs": [],
   "source": [
    "import cv2"
   ]
  },
  {
   "cell_type": "code",
   "execution_count": 2,
   "id": "e6cd95f3",
   "metadata": {},
   "outputs": [],
   "source": [
    "cat = cv2.imread(\"cat.jpg\", cv2.IMREAD_COLOR)\n",
    "cv2.imshow(\"cat\", cat)\n",
    "cv2.waitKey(0)\n",
    "cv2.destroyAllWindows()"
   ]
  },
  {
   "cell_type": "code",
   "execution_count": 3,
   "id": "65b4bb7d",
   "metadata": {},
   "outputs": [],
   "source": [
    "grey_cat = cv2.imread(\"cat.jpg\", cv2.IMREAD_GRAYSCALE)\n",
    "cv2.imshow(\"cat\", grey_cat)\n",
    "cv2.waitKey(0)\n",
    "cv2.destroyAllWindows()"
   ]
  },
  {
   "cell_type": "code",
   "execution_count": 4,
   "id": "9de15c87",
   "metadata": {},
   "outputs": [
    {
     "data": {
      "text/plain": [
       "(726, 1062, 3)"
      ]
     },
     "execution_count": 4,
     "metadata": {},
     "output_type": "execute_result"
    }
   ],
   "source": [
    "cat.shape"
   ]
  },
  {
   "cell_type": "code",
   "execution_count": 5,
   "id": "d26a3111",
   "metadata": {},
   "outputs": [
    {
     "data": {
      "text/plain": [
       "(726, 1062)"
      ]
     },
     "execution_count": 5,
     "metadata": {},
     "output_type": "execute_result"
    }
   ],
   "source": [
    "grey_cat.shape"
   ]
  },
  {
   "cell_type": "code",
   "execution_count": 6,
   "id": "adc71164",
   "metadata": {},
   "outputs": [],
   "source": [
    "cat_2 = grey_cat*2\n",
    "cv2.imshow(\"cat\", cat_2)\n",
    "cv2.waitKey(0)\n",
    "cv2.destroyAllWindows()"
   ]
  },
  {
   "cell_type": "code",
   "execution_count": 7,
   "id": "efd5ed6b",
   "metadata": {},
   "outputs": [
    {
     "data": {
      "text/plain": [
       "True"
      ]
     },
     "execution_count": 7,
     "metadata": {},
     "output_type": "execute_result"
    }
   ],
   "source": [
    "cv2.imwrite(\"gray_cat.png\", grey_cat)"
   ]
  },
  {
   "cell_type": "markdown",
   "id": "c98ac945",
   "metadata": {},
   "source": [
    "## Image menipulations\n",
    "- https://www.youtube.com/watch?v=tc8UhVhdq50&list=PLlD0XVjVhLaLVZWgJuOBrv4JBsWK99DGV&index=3"
   ]
  },
  {
   "cell_type": "code",
   "execution_count": 8,
   "id": "32dfb85e",
   "metadata": {},
   "outputs": [],
   "source": [
    "import cv2\n",
    "import numpy as np"
   ]
  },
  {
   "cell_type": "code",
   "execution_count": 9,
   "id": "4e479bc2",
   "metadata": {},
   "outputs": [],
   "source": [
    "def presentImage(name):\n",
    "    cv2.imshow(\"image\", name)\n",
    "    cv2.waitKey(0)\n",
    "    cv2.destroyAllWindows()"
   ]
  },
  {
   "cell_type": "code",
   "execution_count": 10,
   "id": "d32ec898",
   "metadata": {},
   "outputs": [],
   "source": [
    "img = cv2.imread(\"cat.jpg\", cv2.IMREAD_COLOR)\n",
    "presentImage(img)"
   ]
  },
  {
   "cell_type": "code",
   "execution_count": 11,
   "id": "a8d3df42",
   "metadata": {},
   "outputs": [],
   "source": [
    "#Resize\n",
    "img1 = cv2.resize(img, (300,600))\n",
    "presentImage(img1)"
   ]
  },
  {
   "cell_type": "code",
   "execution_count": 12,
   "id": "6b201976",
   "metadata": {},
   "outputs": [
    {
     "data": {
      "text/plain": [
       "(726, 1062, 3)"
      ]
     },
     "execution_count": 12,
     "metadata": {},
     "output_type": "execute_result"
    }
   ],
   "source": [
    "img.shape"
   ]
  },
  {
   "cell_type": "code",
   "execution_count": 13,
   "id": "3bc3df17",
   "metadata": {},
   "outputs": [],
   "source": [
    "#another way\n",
    "img2 = cv2.resize(img, (0,0), fx=1, fy=0.683)\n",
    "presentImage(img2)\n",
    "#fx and fy duplicate the x & y axis of the size original photo sizes"
   ]
  },
  {
   "cell_type": "code",
   "execution_count": 14,
   "id": "914b173d",
   "metadata": {},
   "outputs": [],
   "source": [
    "#crop\n",
    "height, width = img.shape[0], img.shape[1]\n",
    "img3 = img[int(height/2): , 200:-100]\n",
    "presentImage(img3)"
   ]
  },
  {
   "cell_type": "code",
   "execution_count": 15,
   "id": "2098459a",
   "metadata": {},
   "outputs": [],
   "source": [
    "#Rotate\n",
    "img4 = cv2.rotate(img, cv2.ROTATE_180)\n",
    "presentImage(img4)"
   ]
  },
  {
   "cell_type": "code",
   "execution_count": 16,
   "id": "44e9867a",
   "metadata": {},
   "outputs": [],
   "source": [
    "m = cv2.getRotationMatrix2D(center=(width/2, height/2), angle=50, scale=1)\n",
    "img5=cv2.warpAffine(img, m, (width, height)) #(width before height!)\n",
    "presentImage(img5)"
   ]
  },
  {
   "cell_type": "code",
   "execution_count": 17,
   "id": "c72c4003",
   "metadata": {},
   "outputs": [],
   "source": [
    "#Transfer\n",
    "tx = width/5\n",
    "ty = height/3\n",
    "\n",
    "M=np.array([[1,0,tx],[0,1,ty]])\n",
    "img6= cv2.warpAffine(img, M, (width, height))\n",
    "presentImage(img6)"
   ]
  },
  {
   "cell_type": "markdown",
   "id": "0d0f278d",
   "metadata": {},
   "source": [
    "## Drawing shapes\n",
    "- https://www.youtube.com/watch?v=BNLhd-6YsyE&list=PLlD0XVjVhLaLVZWgJuOBrv4JBsWK99DGV&index=3"
   ]
  },
  {
   "cell_type": "code",
   "execution_count": null,
   "id": "8a769a95",
   "metadata": {},
   "outputs": [],
   "source": []
  },
  {
   "cell_type": "markdown",
   "id": "b7d4b6e3",
   "metadata": {},
   "source": [
    "## Control your Webcam\n",
    "- https://www.youtube.com/watch?v=sd25t4HmFdU"
   ]
  },
  {
   "cell_type": "code",
   "execution_count": 1,
   "id": "a2beea3d",
   "metadata": {},
   "outputs": [],
   "source": [
    "import cv2\n",
    "stream = cv2.VideoCapture(0) #0 means webcam\n",
    "#if i would want to load the video i would send the function the path to the file\n",
    "\n",
    "if not stream.isOpened():\n",
    "    print(\"No stream:(\")\n",
    "    exit()\n",
    "\n",
    "current_fps=stream.get(cv2.CAP_PROP_FPS)\n",
    "width = int(stream.get(3))\n",
    "height = int(stream.get(4))\n",
    "\n",
    "#saving the video\n",
    "# list of FourCC video codes:https://softron.zendesk.com/hc/en-us/articles/207695697-List-of-FourCC-codes-for-video-codecs\n",
    "output = cv2.VideoWriter(\"MyStream.mp4\",\n",
    "                        cv2.VideoWriter_fourcc('m','p','4','v'),\n",
    "                        fps=current_fps,\n",
    "                        frameSize=(width, height))\n",
    "\n",
    "while(True):\n",
    "    read_each_frame, frame = stream.read()\n",
    "    if not read_each_frame:\n",
    "        print(\"No more stream:(\")\n",
    "        break\n",
    "    \n",
    "    frame = cv2.resize(frame, (width, height))\n",
    "    output.write(frame)\n",
    "\n",
    "    cv2.imshow(\"Webcam\", frame)\n",
    "    if cv2.waitKey(1) == ord('q'): #press 'q' to quit\n",
    "        exit()\n",
    "        break\n",
    "\n",
    "stream.release()\n",
    "cv2.destroyAllWindows"
   ]
  },
  {
   "cell_type": "code",
   "execution_count": null,
   "id": "7eec417f",
   "metadata": {},
   "outputs": [],
   "source": []
  },
  {
   "cell_type": "code",
   "execution_count": null,
   "id": "f0626cb1",
   "metadata": {},
   "outputs": [],
   "source": []
  },
  {
   "cell_type": "markdown",
   "id": "0db174ce",
   "metadata": {},
   "source": [
    "## Detect Corners with OpenCV for Python\n",
    "- https://www.youtube.com/watch?v=wkWc1-AG2NU"
   ]
  },
  {
   "cell_type": "code",
   "execution_count": null,
   "id": "87f27bdf",
   "metadata": {},
   "outputs": [],
   "source": [
    "import cv2\n",
    "import numpy as np"
   ]
  },
  {
   "cell_type": "code",
   "execution_count": null,
   "id": "051bdfc4",
   "metadata": {},
   "outputs": [],
   "source": [
    "img = cv2.imread(\"shapes.png\")\n",
    "cv2.imshow(\"image\", img) #doesnt matter how will i call the image\n",
    "cv2.waitKey(0)\n",
    "cv2.destroyAllWindows()"
   ]
  },
  {
   "cell_type": "code",
   "execution_count": null,
   "id": "d234d814",
   "metadata": {},
   "outputs": [],
   "source": [
    "#the colors dont important to detect corners\n",
    "gray_img = cv2.cvtColor(img, cv2.COLOR_BGR2GRAY)\n",
    "gray_img"
   ]
  },
  {
   "cell_type": "code",
   "execution_count": null,
   "id": "8477bfaa",
   "metadata": {},
   "outputs": [],
   "source": [
    "cv2.imshow(\"image\", gray_img) #doesnt matter how will i call the image\n",
    "cv2.waitKey(0)\n",
    "cv2.destroyAllWindows()"
   ]
  },
  {
   "cell_type": "code",
   "execution_count": null,
   "id": "1d33ef23",
   "metadata": {},
   "outputs": [],
   "source": [
    "corners = cv2.goodFeaturesToTrack(gray_img, maxCorners=50, qualityLevel=0.15, minDistance=50)\n",
    "corners = np.int0(corners)\n",
    "for c in corners:\n",
    "    x,y = c.ravel()\n",
    "    img = cv2.circle(img, center=(x,y), radius=20, color=(0,0,255), thickness=-1)\n",
    "    cv2.imshow(\"image\", img) #doesnt matter how will i call the image\n",
    "cv2.waitKey(0)\n",
    "cv2.destroyAllWindows()"
   ]
  },
  {
   "cell_type": "code",
   "execution_count": null,
   "id": "152f05e1",
   "metadata": {},
   "outputs": [],
   "source": [
    "#Harris corner detevetion\n",
    "corners = cv2.goodFeaturesToTrack(gray_img, maxCorners=50, qualityLevel=0.01, minDistance=30, useHarrisDetector=True, k=0.1)\n",
    "corners = np.int0(corners)\n",
    "for c in corners:\n",
    "    x,y = c.ravel()\n",
    "    img = cv2.circle(img, center=(x,y), radius=10, color=(0,255,0), thickness=-1)\n",
    "    cv2.imshow(\"image\", img) #doesnt matter how will i call the image\n",
    "cv2.waitKey(0)\n",
    "cv2.destroyAllWindows()"
   ]
  },
  {
   "cell_type": "code",
   "execution_count": null,
   "id": "10062ede",
   "metadata": {},
   "outputs": [],
   "source": [
    "cv2.imwrite(\"5_shapes_corners.png\", img)"
   ]
  },
  {
   "cell_type": "code",
   "execution_count": null,
   "id": "3bb33501",
   "metadata": {},
   "outputs": [],
   "source": [
    "x = np.random.rand(3, 2)\n",
    "\n",
    "y = np.sum(x, axis=0, keepdims=True)\n",
    "y.shape"
   ]
  },
  {
   "cell_type": "markdown",
   "id": "4bc6c193",
   "metadata": {},
   "source": [
    "## Face detecting\n",
    "- https://www.youtube.com/watch?v=anMzDYSwndE&list=PLlD0XVjVhLaLVZWgJuOBrv4JBsWK99DGV&index=7"
   ]
  },
  {
   "cell_type": "code",
   "execution_count": 1,
   "id": "46874709",
   "metadata": {},
   "outputs": [
    {
     "data": {
      "text/plain": [
       "<function destroyAllWindows>"
      ]
     },
     "execution_count": 1,
     "metadata": {},
     "output_type": "execute_result"
    }
   ],
   "source": [
    "import cv2\n",
    "\n",
    "#built in xml files to detecting \n",
    "face_cascade = cv2.CascadeClassifier(cv2.data.haarcascades +\n",
    "                    \"haarcascade_frontalface_default.xml\")\n",
    "smile_cascade = cv2.CascadeClassifier(cv2.data.haarcascades +\n",
    "                    \"haarcascade_smile.xml\")\n",
    "eye_cascade = cv2.CascadeClassifier(cv2.data.haarcascades +\n",
    "                    \"haarcascade_eye.xml\")\n",
    "\n",
    "\n",
    "def detect_fuatures(frame):\n",
    "    gray = cv2.cvtColor(frame, cv2.COLOR_BGR2GRAY)\n",
    "    faces = face_cascade.detectMultiScale(image=gray, scaleFactor=1.3, minNeighbors=5)\n",
    "            # You can also specify minSize and maxSize\n",
    "    \n",
    "    for (x, y, w, h) in faces:\n",
    "        frame = cv2.rectangle(frame, (x, y), (x+w, y+h),\n",
    "                            color=(0, 255, 0), thickness=5)\n",
    "        \n",
    "        face = frame[y : y+h, x : x+w]\n",
    "        gray_face = gray[y : y+h, x : x+w]\n",
    "        \n",
    "        smiles = smile_cascade.detectMultiScale(gray_face, \n",
    "                            2.5, minNeighbors=15)\n",
    "        for (xp, yp, wp, hp) in smiles:\n",
    "            face = cv2.rectangle(face, (xp, yp), (xp+wp, yp+hp),\n",
    "                    color=(0, 0, 255), thickness=5)\n",
    "        \n",
    "        eyes = eye_cascade.detectMultiScale(gray_face, \n",
    "                    2.5, minNeighbors=3)\n",
    "        for (xp, yp, wp, hp) in eyes:\n",
    "            face = cv2.rectangle(face, (xp, yp), (xp+wp, yp+hp),\n",
    "                    color=(255, 0, 0), thickness=5)\n",
    "    return frame\n",
    "    \n",
    "stream = cv2.VideoCapture(0) #0 means webcam\n",
    "#if i would want to load the video i would send the function the path to the file\n",
    "\n",
    "if not stream.isOpened():\n",
    "    print(\"No stream:(\")\n",
    "    exit()\n",
    "\n",
    "current_fps=stream.get(cv2.CAP_PROP_FPS)\n",
    "width = int(stream.get(3))\n",
    "height = int(stream.get(4))\n",
    "\n",
    "#saving the video\n",
    "# list of FourCC video codes:https://softron.zendesk.com/hc/en-us/articles/207695697-List-of-FourCC-codes-for-video-codecs\n",
    "output = cv2.VideoWriter(\"MyStream.mp4\",\n",
    "                        cv2.VideoWriter_fourcc('m','p','4','v'),\n",
    "                        fps=current_fps,\n",
    "                        frameSize=(width, height))\n",
    "\n",
    "while(True):\n",
    "    read_each_frame, frame = stream.read()\n",
    "    if not read_each_frame:\n",
    "        print(\"No more stream:(\")\n",
    "        break\n",
    "    \n",
    "    frame= detect_fuatures(frame)\n",
    "    cv2.imshow(\"Webcam\", frame)\n",
    "    if cv2.waitKey(1) == ord('q'): #press 'q' to quit\n",
    "        exit()\n",
    "        break\n",
    "\n",
    "stream.release()\n",
    "cv2.destroyAllWindows"
   ]
  },
  {
   "cell_type": "markdown",
   "id": "20658033",
   "metadata": {},
   "source": [
    "## Filters and Kernels\n",
    "- https://www.youtube.com/watch?v=XLzd38s2Xk0&list=PLlD0XVjVhLaLVZWgJuOBrv4JBsWK99DGV&index=7"
   ]
  },
  {
   "cell_type": "code",
   "execution_count": null,
   "id": "52004c26",
   "metadata": {},
   "outputs": [],
   "source": []
  },
  {
   "cell_type": "code",
   "execution_count": null,
   "id": "6472a406",
   "metadata": {},
   "outputs": [],
   "source": []
  }
 ],
 "metadata": {
  "kernelspec": {
   "display_name": "Python 3",
   "language": "python",
   "name": "python3"
  },
  "language_info": {
   "codemirror_mode": {
    "name": "ipython",
    "version": 3
   },
   "file_extension": ".py",
   "mimetype": "text/x-python",
   "name": "python",
   "nbconvert_exporter": "python",
   "pygments_lexer": "ipython3",
   "version": "3.8.8"
  }
 },
 "nbformat": 4,
 "nbformat_minor": 5
}
